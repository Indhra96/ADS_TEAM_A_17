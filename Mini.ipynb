{
  "nbformat": 4,
  "nbformat_minor": 0,
  "metadata": {
    "colab": {
      "provenance": []
    },
    "kernelspec": {
      "name": "python3",
      "display_name": "Python 3"
    },
    "language_info": {
      "name": "python"
    }
  },
  "cells": [
    {
      "cell_type": "code",
      "execution_count": null,
      "metadata": {
        "id": "elzJE4srF_mj"
      },
      "outputs": [],
      "source": [
        "import pandas as pd\n",
        "import xgboost as xgb\n",
        "from sklearn.model_selection import train_test_split\n",
        "from sklearn.metrics import accuracy_score, classification_report, confusion_matrix"
      ]
    },
    {
      "cell_type": "code",
      "source": [
        "data=pd.read_csv(\"airline_delay_causes_pivoted.csv\",encoding='cp1252')"
      ],
      "metadata": {
        "id": "3IAlcH1iGDxy"
      },
      "execution_count": null,
      "outputs": []
    },
    {
      "cell_type": "code",
      "source": [
        "data['Delay'] = data['Delay'].astype(float)"
      ],
      "metadata": {
        "id": "bGXtxXg5Ol6D"
      },
      "execution_count": null,
      "outputs": []
    },
    {
      "cell_type": "code",
      "source": [
        "data.dropna(subset=['Delay'], inplace=True)\n"
      ],
      "metadata": {
        "id": "u7lx-YAbL2xQ"
      },
      "execution_count": null,
      "outputs": []
    },
    {
      "cell_type": "code",
      "source": [
        "features = data.drop(['Delay'], axis=1)\n",
        "labels = data['Delay']"
      ],
      "metadata": {
        "id": "_PXfW-_SIcyr"
      },
      "execution_count": null,
      "outputs": []
    },
    {
      "cell_type": "code",
      "source": [
        "import pandas as pd\n",
        "from sklearn.preprocessing import OneHotEncoder, LabelEncoder\n",
        "\n",
        "AirportEnc = LabelEncoder()\n",
        "features[\"Airport\"] = AirportEnc.fit_transform(data[\"Airport\"])\n",
        "\n",
        "AirportNameEnc = LabelEncoder()\n",
        "features[\"Airport Name\"] = AirportNameEnc.fit_transform(data[\"Airport Name\"])\n",
        "\n",
        "CarrierNameEnc = LabelEncoder()\n",
        "features[\"Carrier Name\"] = CarrierNameEnc.fit_transform(data[\"Carrier Name\"])\n",
        "\n",
        "TypesOfDelayEnc = LabelEncoder()\n",
        "features[\"Type of Delay\"] = TypesOfDelayEnc.fit_transform(data[\"Type of Delay\"])"
      ],
      "metadata": {
        "id": "gZGHV44Z3CH4"
      },
      "execution_count": null,
      "outputs": []
    },
    {
      "cell_type": "code",
      "source": [
        "data.info"
      ],
      "metadata": {
        "colab": {
          "base_uri": "https://localhost:8080/"
        },
        "id": "T2KKCAM6Iiru",
        "outputId": "0bdf400a-57c2-499c-b2e0-2181fbca1110"
      },
      "execution_count": null,
      "outputs": [
        {
          "output_type": "execute_result",
          "data": {
            "text/plain": [
              "<bound method DataFrame.info of        Airport                                 Airport Name  \\\n",
              "0          MHT   Manchester, NH: Manchester-Boston Regional   \n",
              "1          MHT   Manchester, NH: Manchester-Boston Regional   \n",
              "2          MHT   Manchester, NH: Manchester-Boston Regional   \n",
              "3          MHT   Manchester, NH: Manchester-Boston Regional   \n",
              "4          MHT   Manchester, NH: Manchester-Boston Regional   \n",
              "...        ...                                          ...   \n",
              "329555     MHK  Manhattan/Ft. Riley, KS: Manhattan Regional   \n",
              "329556     MHK  Manhattan/Ft. Riley, KS: Manhattan Regional   \n",
              "329557     MHK  Manhattan/Ft. Riley, KS: Manhattan Regional   \n",
              "329558     MHK  Manhattan/Ft. Riley, KS: Manhattan Regional   \n",
              "329559     MHK  Manhattan/Ft. Riley, KS: Manhattan Regional   \n",
              "\n",
              "                    Carrier Name  Month        Type of Delay  Year  Delay  \n",
              "0       ExpressJet Airlines Inc.      1        Carrier Delay  2019    0.0  \n",
              "1       ExpressJet Airlines Inc.      1  Late Aircraft Delay  2019    0.0  \n",
              "2       ExpressJet Airlines Inc.      1            Nas Delay  2019    0.0  \n",
              "3       ExpressJet Airlines Inc.      1       Security Delay  2019    0.0  \n",
              "4       ExpressJet Airlines Inc.      1        Weather Delay  2019    0.0  \n",
              "...                          ...    ...                  ...   ...    ...  \n",
              "329555  ExpressJet Airlines Inc.      1        Carrier Delay  2019    0.0  \n",
              "329556  ExpressJet Airlines Inc.      1  Late Aircraft Delay  2019   47.0  \n",
              "329557  ExpressJet Airlines Inc.      1            Nas Delay  2019   20.0  \n",
              "329558  ExpressJet Airlines Inc.      1       Security Delay  2019    0.0  \n",
              "329559  ExpressJet Airlines Inc.      1        Weather Delay  2019    0.0  \n",
              "\n",
              "[329260 rows x 7 columns]>"
            ]
          },
          "metadata": {},
          "execution_count": 65
        }
      ]
    },
    {
      "cell_type": "code",
      "source": [
        "features.fillna(features.mean(), inplace=True)"
      ],
      "metadata": {
        "id": "Jh9IMwHdNgHj"
      },
      "execution_count": null,
      "outputs": []
    },
    {
      "cell_type": "code",
      "source": [
        "X_train, X_test, y_train, y_test = train_test_split(features, labels, test_size=0.2, random_state=42)"
      ],
      "metadata": {
        "id": "_vrf_-z7JF7d"
      },
      "execution_count": null,
      "outputs": []
    },
    {
      "cell_type": "code",
      "source": [
        "model = xgb.XGBRegressor(objective='reg:squarederror', random_state=42)"
      ],
      "metadata": {
        "id": "JOIbQjwqHIRS"
      },
      "execution_count": null,
      "outputs": []
    },
    {
      "cell_type": "code",
      "source": [
        "model.fit(X_train, y_train)"
      ],
      "metadata": {
        "colab": {
          "base_uri": "https://localhost:8080/",
          "height": 248
        },
        "id": "5fPfsLhMIJCc",
        "outputId": "54447a90-57f6-4e3d-c714-84c7f55eccd9"
      },
      "execution_count": null,
      "outputs": [
        {
          "output_type": "execute_result",
          "data": {
            "text/plain": [
              "XGBRegressor(base_score=None, booster=None, callbacks=None,\n",
              "             colsample_bylevel=None, colsample_bynode=None,\n",
              "             colsample_bytree=None, device=None, early_stopping_rounds=None,\n",
              "             enable_categorical=False, eval_metric=None, feature_types=None,\n",
              "             gamma=None, grow_policy=None, importance_type=None,\n",
              "             interaction_constraints=None, learning_rate=None, max_bin=None,\n",
              "             max_cat_threshold=None, max_cat_to_onehot=None,\n",
              "             max_delta_step=None, max_depth=None, max_leaves=None,\n",
              "             min_child_weight=None, missing=nan, monotone_constraints=None,\n",
              "             multi_strategy=None, n_estimators=None, n_jobs=None,\n",
              "             num_parallel_tree=None, random_state=42, ...)"
            ],
            "text/html": [
              "<style>#sk-container-id-3 {color: black;background-color: white;}#sk-container-id-3 pre{padding: 0;}#sk-container-id-3 div.sk-toggleable {background-color: white;}#sk-container-id-3 label.sk-toggleable__label {cursor: pointer;display: block;width: 100%;margin-bottom: 0;padding: 0.3em;box-sizing: border-box;text-align: center;}#sk-container-id-3 label.sk-toggleable__label-arrow:before {content: \"▸\";float: left;margin-right: 0.25em;color: #696969;}#sk-container-id-3 label.sk-toggleable__label-arrow:hover:before {color: black;}#sk-container-id-3 div.sk-estimator:hover label.sk-toggleable__label-arrow:before {color: black;}#sk-container-id-3 div.sk-toggleable__content {max-height: 0;max-width: 0;overflow: hidden;text-align: left;background-color: #f0f8ff;}#sk-container-id-3 div.sk-toggleable__content pre {margin: 0.2em;color: black;border-radius: 0.25em;background-color: #f0f8ff;}#sk-container-id-3 input.sk-toggleable__control:checked~div.sk-toggleable__content {max-height: 200px;max-width: 100%;overflow: auto;}#sk-container-id-3 input.sk-toggleable__control:checked~label.sk-toggleable__label-arrow:before {content: \"▾\";}#sk-container-id-3 div.sk-estimator input.sk-toggleable__control:checked~label.sk-toggleable__label {background-color: #d4ebff;}#sk-container-id-3 div.sk-label input.sk-toggleable__control:checked~label.sk-toggleable__label {background-color: #d4ebff;}#sk-container-id-3 input.sk-hidden--visually {border: 0;clip: rect(1px 1px 1px 1px);clip: rect(1px, 1px, 1px, 1px);height: 1px;margin: -1px;overflow: hidden;padding: 0;position: absolute;width: 1px;}#sk-container-id-3 div.sk-estimator {font-family: monospace;background-color: #f0f8ff;border: 1px dotted black;border-radius: 0.25em;box-sizing: border-box;margin-bottom: 0.5em;}#sk-container-id-3 div.sk-estimator:hover {background-color: #d4ebff;}#sk-container-id-3 div.sk-parallel-item::after {content: \"\";width: 100%;border-bottom: 1px solid gray;flex-grow: 1;}#sk-container-id-3 div.sk-label:hover label.sk-toggleable__label {background-color: #d4ebff;}#sk-container-id-3 div.sk-serial::before {content: \"\";position: absolute;border-left: 1px solid gray;box-sizing: border-box;top: 0;bottom: 0;left: 50%;z-index: 0;}#sk-container-id-3 div.sk-serial {display: flex;flex-direction: column;align-items: center;background-color: white;padding-right: 0.2em;padding-left: 0.2em;position: relative;}#sk-container-id-3 div.sk-item {position: relative;z-index: 1;}#sk-container-id-3 div.sk-parallel {display: flex;align-items: stretch;justify-content: center;background-color: white;position: relative;}#sk-container-id-3 div.sk-item::before, #sk-container-id-3 div.sk-parallel-item::before {content: \"\";position: absolute;border-left: 1px solid gray;box-sizing: border-box;top: 0;bottom: 0;left: 50%;z-index: -1;}#sk-container-id-3 div.sk-parallel-item {display: flex;flex-direction: column;z-index: 1;position: relative;background-color: white;}#sk-container-id-3 div.sk-parallel-item:first-child::after {align-self: flex-end;width: 50%;}#sk-container-id-3 div.sk-parallel-item:last-child::after {align-self: flex-start;width: 50%;}#sk-container-id-3 div.sk-parallel-item:only-child::after {width: 0;}#sk-container-id-3 div.sk-dashed-wrapped {border: 1px dashed gray;margin: 0 0.4em 0.5em 0.4em;box-sizing: border-box;padding-bottom: 0.4em;background-color: white;}#sk-container-id-3 div.sk-label label {font-family: monospace;font-weight: bold;display: inline-block;line-height: 1.2em;}#sk-container-id-3 div.sk-label-container {text-align: center;}#sk-container-id-3 div.sk-container {/* jupyter's `normalize.less` sets `[hidden] { display: none; }` but bootstrap.min.css set `[hidden] { display: none !important; }` so we also need the `!important` here to be able to override the default hidden behavior on the sphinx rendered scikit-learn.org. See: https://github.com/scikit-learn/scikit-learn/issues/21755 */display: inline-block !important;position: relative;}#sk-container-id-3 div.sk-text-repr-fallback {display: none;}</style><div id=\"sk-container-id-3\" class=\"sk-top-container\"><div class=\"sk-text-repr-fallback\"><pre>XGBRegressor(base_score=None, booster=None, callbacks=None,\n",
              "             colsample_bylevel=None, colsample_bynode=None,\n",
              "             colsample_bytree=None, device=None, early_stopping_rounds=None,\n",
              "             enable_categorical=False, eval_metric=None, feature_types=None,\n",
              "             gamma=None, grow_policy=None, importance_type=None,\n",
              "             interaction_constraints=None, learning_rate=None, max_bin=None,\n",
              "             max_cat_threshold=None, max_cat_to_onehot=None,\n",
              "             max_delta_step=None, max_depth=None, max_leaves=None,\n",
              "             min_child_weight=None, missing=nan, monotone_constraints=None,\n",
              "             multi_strategy=None, n_estimators=None, n_jobs=None,\n",
              "             num_parallel_tree=None, random_state=42, ...)</pre><b>In a Jupyter environment, please rerun this cell to show the HTML representation or trust the notebook. <br />On GitHub, the HTML representation is unable to render, please try loading this page with nbviewer.org.</b></div><div class=\"sk-container\" hidden><div class=\"sk-item\"><div class=\"sk-estimator sk-toggleable\"><input class=\"sk-toggleable__control sk-hidden--visually\" id=\"sk-estimator-id-3\" type=\"checkbox\" checked><label for=\"sk-estimator-id-3\" class=\"sk-toggleable__label sk-toggleable__label-arrow\">XGBRegressor</label><div class=\"sk-toggleable__content\"><pre>XGBRegressor(base_score=None, booster=None, callbacks=None,\n",
              "             colsample_bylevel=None, colsample_bynode=None,\n",
              "             colsample_bytree=None, device=None, early_stopping_rounds=None,\n",
              "             enable_categorical=False, eval_metric=None, feature_types=None,\n",
              "             gamma=None, grow_policy=None, importance_type=None,\n",
              "             interaction_constraints=None, learning_rate=None, max_bin=None,\n",
              "             max_cat_threshold=None, max_cat_to_onehot=None,\n",
              "             max_delta_step=None, max_depth=None, max_leaves=None,\n",
              "             min_child_weight=None, missing=nan, monotone_constraints=None,\n",
              "             multi_strategy=None, n_estimators=None, n_jobs=None,\n",
              "             num_parallel_tree=None, random_state=42, ...)</pre></div></div></div></div></div>"
            ]
          },
          "metadata": {},
          "execution_count": 69
        }
      ]
    },
    {
      "cell_type": "code",
      "source": [
        "y_pred = model.predict(X_test)"
      ],
      "metadata": {
        "id": "C_-j_n_4Jhoe"
      },
      "execution_count": null,
      "outputs": []
    },
    {
      "cell_type": "code",
      "source": [
        "from sklearn.metrics import mean_squared_error\n",
        "mse = mean_squared_error(y_test, y_pred)\n",
        "print(f\"Mean Squared Error: {mse:.2f}\")"
      ],
      "metadata": {
        "colab": {
          "base_uri": "https://localhost:8080/"
        },
        "id": "OPn3-HO8PaSh",
        "outputId": "778ab91c-b124-46ce-91fb-21cb9e41f7ea"
      },
      "execution_count": null,
      "outputs": [
        {
          "output_type": "stream",
          "name": "stdout",
          "text": [
            "Mean Squared Error: 3445061.37\n"
          ]
        }
      ]
    },
    {
      "cell_type": "code",
      "source": [
        "import pandas as pd\n",
        "import xgboost as xgb\n",
        "\n",
        "user_input = {\n",
        "    'Airport': 'MHT',\n",
        "    'Airport Name': 'Manchester, NH: Manchester-Boston Regional',\n",
        "    'Carrier Name': 'ExpressJet Airlines Inc.',\n",
        "    'Month': 1,\n",
        "    'Type of Delay': 'Carrier Delay',\n",
        "    'Year':2019\n",
        "}\n",
        "user_data = pd.DataFrame([user_input])\n",
        "user_data_encoded = pd.get_dummies(user_data, columns=['Airport', 'Airport Name', 'Carrier Name', 'Type of Delay'], drop_first=True)\n",
        "user_data_encoded.fillna(user_data_encoded.mean(), inplace=True)\n",
        "missing_cols = set(features.columns) - set(user_data_encoded.columns)\n",
        "for col in missing_cols:\n",
        "    user_data_encoded[col] = 0\n",
        "user_data_encoded = user_data_encoded[features.columns]\n",
        "user_data_encoded.fillna(user_data_encoded.mean(), inplace=True)\n",
        "prediction = model.predict(user_data_encoded)\n",
        "\n",
        "# Interpret the prediction\n",
        "if prediction[0]==0:\n",
        "    print(\"The model predicts that the flight will be delayed.\")\n",
        "else:\n",
        "    print(\"The model predicts that the flight will not be delayed.\")\n"
      ],
      "metadata": {
        "colab": {
          "base_uri": "https://localhost:8080/"
        },
        "id": "r8WplA1mPt07",
        "outputId": "ab75fcd7-250a-4ec8-ad79-351b32c317e2"
      },
      "execution_count": null,
      "outputs": [
        {
          "output_type": "stream",
          "name": "stdout",
          "text": [
            "The model predicts that the flight will not be delayed.\n"
          ]
        }
      ]
    },
    {
      "cell_type": "code",
      "source": [],
      "metadata": {
        "id": "Lc-ZfPsuQFHi"
      },
      "execution_count": null,
      "outputs": []
    }
  ]
}